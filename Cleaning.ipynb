{
 "cells": [
  {
   "cell_type": "code",
   "execution_count": 1,
   "id": "faffe009",
   "metadata": {},
   "outputs": [],
   "source": [
    "#Import dependencies\n",
    "import csv\n",
    "import os\n",
    "import os, fnmatch\n",
    "from matplotlib import pyplot as plt\n",
    "from scipy import stats\n",
    "import numpy as np\n",
    "import pandas as pd\n",
    "from datetime import datetime\n",
    "from datetime import date"
   ]
  },
  {
   "cell_type": "code",
   "execution_count": 2,
   "id": "3ee4f691",
   "metadata": {},
   "outputs": [],
   "source": [
    "for root, dirs, files in os.walk(\"resources\", topdown=False):\n",
    "    total_hab_files = []\n",
    "    volume_projection_files = []\n",
    "    for name in files:\n",
    "        if os.path.join(name).startswith(\"Volume\"):\n",
    "            volume_projection_files.append(os.path.join(root, name))\n",
    "        elif os.path.join(name).rfind(\"total\"):\n",
    "            total_hab_files.append(os.path.join(root, name))"
   ]
  },
  {
   "cell_type": "code",
   "execution_count": 3,
   "id": "b33123cf",
   "metadata": {},
   "outputs": [
    {
     "data": {
      "text/plain": [
       "4"
      ]
     },
     "execution_count": 3,
     "metadata": {},
     "output_type": "execute_result"
    }
   ],
   "source": [
    "number_of_files = len(total_hab_files)\n",
    "number_of_files"
   ]
  },
  {
   "cell_type": "code",
   "execution_count": 4,
   "id": "3da8092d",
   "metadata": {},
   "outputs": [],
   "source": [
    "for i in range(number_of_files):\n",
    "    file = total_hab_files[i]\n",
    "    i = i + 1\n",
    "    variable_name = f\"total_{i}\"\n",
    "#     print(variable_name)\n",
    "    globals()[variable_name] =  pd.read_csv(file)"
   ]
  },
  {
   "cell_type": "code",
   "execution_count": 5,
   "id": "45b0e37e",
   "metadata": {},
   "outputs": [
    {
     "ename": "NameError",
     "evalue": "name 'numfile' is not defined",
     "output_type": "error",
     "traceback": [
      "\u001b[1;31m---------------------------------------------------------------------------\u001b[0m",
      "\u001b[1;31mNameError\u001b[0m                                 Traceback (most recent call last)",
      "\u001b[1;32m~\\AppData\\Local\\Temp/ipykernel_4468/216119996.py\u001b[0m in \u001b[0;36m<module>\u001b[1;34m\u001b[0m\n\u001b[0;32m      2\u001b[0m     \u001b[0mtotal_temp\u001b[0m \u001b[1;33m=\u001b[0m \u001b[0mpd\u001b[0m\u001b[1;33m.\u001b[0m\u001b[0mconcat\u001b[0m\u001b[1;33m(\u001b[0m\u001b[1;33m[\u001b[0m\u001b[0mtotal_1\u001b[0m\u001b[1;33m,\u001b[0m \u001b[0mtotal_2\u001b[0m\u001b[1;33m]\u001b[0m\u001b[1;33m)\u001b[0m\u001b[1;33m\u001b[0m\u001b[1;33m\u001b[0m\u001b[0m\n\u001b[0;32m      3\u001b[0m     \u001b[0mtotal\u001b[0m \u001b[1;33m=\u001b[0m \u001b[0mpd\u001b[0m\u001b[1;33m.\u001b[0m\u001b[0mconcat\u001b[0m\u001b[1;33m(\u001b[0m\u001b[1;33m[\u001b[0m\u001b[0mtotal_temp\u001b[0m\u001b[1;33m,\u001b[0m \u001b[0mtotal_3\u001b[0m\u001b[1;33m]\u001b[0m\u001b[1;33m)\u001b[0m\u001b[1;33m\u001b[0m\u001b[1;33m\u001b[0m\u001b[0m\n\u001b[1;32m----> 4\u001b[1;33m \u001b[1;32melif\u001b[0m \u001b[0mnumfile\u001b[0m \u001b[1;33m==\u001b[0m \u001b[1;36m2\u001b[0m\u001b[1;33m:\u001b[0m\u001b[1;33m\u001b[0m\u001b[1;33m\u001b[0m\u001b[0m\n\u001b[0m\u001b[0;32m      5\u001b[0m     \u001b[0mtotal\u001b[0m \u001b[1;33m=\u001b[0m \u001b[0mpd\u001b[0m\u001b[1;33m.\u001b[0m\u001b[0mconcat\u001b[0m\u001b[1;33m(\u001b[0m\u001b[1;33m[\u001b[0m\u001b[0mtotal_1\u001b[0m\u001b[1;33m,\u001b[0m \u001b[0mtotal_2\u001b[0m\u001b[1;33m]\u001b[0m\u001b[1;33m)\u001b[0m\u001b[1;33m\u001b[0m\u001b[1;33m\u001b[0m\u001b[0m\n\u001b[0;32m      6\u001b[0m \u001b[1;32melse\u001b[0m\u001b[1;33m:\u001b[0m\u001b[1;33m\u001b[0m\u001b[1;33m\u001b[0m\u001b[0m\n",
      "\u001b[1;31mNameError\u001b[0m: name 'numfile' is not defined"
     ]
    }
   ],
   "source": []
  },
  {
   "cell_type": "code",
   "execution_count": null,
   "id": "3b64bed1",
   "metadata": {},
   "outputs": [],
   "source": [
    "total"
   ]
  },
  {
   "cell_type": "code",
   "execution_count": 6,
   "id": "34884096",
   "metadata": {},
   "outputs": [],
   "source": [
    "#Read in file\n",
    "# file_df = pd.read_csv(\"resources/2020-plu-total-hab-data.csv\", encoding = \"UTF-8\")\n",
    "\n",
    "# file_df.head()"
   ]
  },
  {
   "cell_type": "code",
   "execution_count": 7,
   "id": "18116902",
   "metadata": {},
   "outputs": [
    {
     "ename": "NameError",
     "evalue": "name 'total' is not defined",
     "output_type": "error",
     "traceback": [
      "\u001b[1;31m---------------------------------------------------------------------------\u001b[0m",
      "\u001b[1;31mNameError\u001b[0m                                 Traceback (most recent call last)",
      "\u001b[1;32m~\\AppData\\Local\\Temp/ipykernel_4468/3028317181.py\u001b[0m in \u001b[0;36m<module>\u001b[1;34m\u001b[0m\n\u001b[1;32m----> 1\u001b[1;33m \u001b[0mtotal\u001b[0m\u001b[1;33m.\u001b[0m\u001b[0mcolumns\u001b[0m\u001b[1;33m.\u001b[0m\u001b[0mtolist\u001b[0m\u001b[1;33m(\u001b[0m\u001b[1;33m)\u001b[0m\u001b[1;33m\u001b[0m\u001b[1;33m\u001b[0m\u001b[0m\n\u001b[0m",
      "\u001b[1;31mNameError\u001b[0m: name 'total' is not defined"
     ]
    }
   ],
   "source": [
    "total.columns.tolist()"
   ]
  },
  {
   "cell_type": "code",
   "execution_count": 8,
   "id": "a4c9b69e",
   "metadata": {},
   "outputs": [
    {
     "ename": "NameError",
     "evalue": "name 'total' is not defined",
     "output_type": "error",
     "traceback": [
      "\u001b[1;31m---------------------------------------------------------------------------\u001b[0m",
      "\u001b[1;31mNameError\u001b[0m                                 Traceback (most recent call last)",
      "\u001b[1;32m~\\AppData\\Local\\Temp/ipykernel_4468/2517097401.py\u001b[0m in \u001b[0;36m<module>\u001b[1;34m\u001b[0m\n\u001b[1;32m----> 1\u001b[1;33m dropna_df = total.dropna(subset=['Geography',\n\u001b[0m\u001b[0;32m      2\u001b[0m  \u001b[1;34m'Timeframe'\u001b[0m\u001b[1;33m,\u001b[0m\u001b[1;33m\u001b[0m\u001b[1;33m\u001b[0m\u001b[0m\n\u001b[0;32m      3\u001b[0m  \u001b[1;34m'Current Year Week Ending'\u001b[0m\u001b[1;33m,\u001b[0m\u001b[1;33m\u001b[0m\u001b[1;33m\u001b[0m\u001b[0m\n\u001b[0;32m      4\u001b[0m  \u001b[1;34m'Type'\u001b[0m\u001b[1;33m,\u001b[0m\u001b[1;33m\u001b[0m\u001b[1;33m\u001b[0m\u001b[0m\n\u001b[0;32m      5\u001b[0m  \u001b[1;34m'ASP Current Year'\u001b[0m\u001b[1;33m,\u001b[0m\u001b[1;33m\u001b[0m\u001b[1;33m\u001b[0m\u001b[0m\n",
      "\u001b[1;31mNameError\u001b[0m: name 'total' is not defined"
     ]
    }
   ],
   "source": [
    "dropna_df = total.dropna(subset=['Geography',\n",
    " 'Timeframe',\n",
    " 'Current Year Week Ending',\n",
    " 'Type',\n",
    " 'ASP Current Year',\n",
    " 'Total Bulk and Bags Units',\n",
    " '4046 Units',\n",
    " '4225 Units',\n",
    " '4770 Units',\n",
    " 'TotalBagged Units',\n",
    " 'SmlBagged Units',\n",
    " 'LrgBagged Units',\n",
    " 'X-LrgBagged Units',\n",
    " 'Bulk GTIN'])\n",
    "dropna_df.head()"
   ]
  },
  {
   "cell_type": "code",
   "execution_count": 9,
   "id": "e66cbe52",
   "metadata": {},
   "outputs": [
    {
     "ename": "NameError",
     "evalue": "name 'dropna_df' is not defined",
     "output_type": "error",
     "traceback": [
      "\u001b[1;31m---------------------------------------------------------------------------\u001b[0m",
      "\u001b[1;31mNameError\u001b[0m                                 Traceback (most recent call last)",
      "\u001b[1;32m~\\AppData\\Local\\Temp/ipykernel_4468/2201967079.py\u001b[0m in \u001b[0;36m<module>\u001b[1;34m\u001b[0m\n\u001b[1;32m----> 1\u001b[1;33m \u001b[0mdropna_df\u001b[0m\u001b[1;33m.\u001b[0m\u001b[0mcount\u001b[0m\u001b[1;33m(\u001b[0m\u001b[1;33m)\u001b[0m\u001b[1;33m\u001b[0m\u001b[1;33m\u001b[0m\u001b[0m\n\u001b[0m",
      "\u001b[1;31mNameError\u001b[0m: name 'dropna_df' is not defined"
     ]
    }
   ],
   "source": [
    "dropna_df.count()"
   ]
  },
  {
   "cell_type": "code",
   "execution_count": 10,
   "id": "b1addb5d",
   "metadata": {},
   "outputs": [
    {
     "ename": "NameError",
     "evalue": "name 'dropna_df' is not defined",
     "output_type": "error",
     "traceback": [
      "\u001b[1;31m---------------------------------------------------------------------------\u001b[0m",
      "\u001b[1;31mNameError\u001b[0m                                 Traceback (most recent call last)",
      "\u001b[1;32m~\\AppData\\Local\\Temp/ipykernel_4468/3387793373.py\u001b[0m in \u001b[0;36m<module>\u001b[1;34m\u001b[0m\n\u001b[1;32m----> 1\u001b[1;33m dropcols_df = dropna_df.drop(columns = ['SmlBagged Units',\n\u001b[0m\u001b[0;32m      2\u001b[0m  \u001b[1;34m'LrgBagged Units'\u001b[0m\u001b[1;33m,\u001b[0m\u001b[1;33m\u001b[0m\u001b[1;33m\u001b[0m\u001b[0m\n\u001b[0;32m      3\u001b[0m  'X-LrgBagged Units'])\n\u001b[0;32m      4\u001b[0m \u001b[1;33m\u001b[0m\u001b[0m\n\u001b[0;32m      5\u001b[0m \u001b[0mdropcols_df\u001b[0m\u001b[1;33m.\u001b[0m\u001b[0mhead\u001b[0m\u001b[1;33m(\u001b[0m\u001b[1;33m)\u001b[0m\u001b[1;33m\u001b[0m\u001b[1;33m\u001b[0m\u001b[0m\n",
      "\u001b[1;31mNameError\u001b[0m: name 'dropna_df' is not defined"
     ]
    }
   ],
   "source": [
    "dropcols_df = dropna_df.drop(columns = ['SmlBagged Units',\n",
    " 'LrgBagged Units',\n",
    " 'X-LrgBagged Units'])\n",
    "\n",
    "dropcols_df.head()"
   ]
  },
  {
   "cell_type": "code",
   "execution_count": 11,
   "id": "7e885542",
   "metadata": {},
   "outputs": [
    {
     "ename": "NameError",
     "evalue": "name 'dropcols_df' is not defined",
     "output_type": "error",
     "traceback": [
      "\u001b[1;31m---------------------------------------------------------------------------\u001b[0m",
      "\u001b[1;31mNameError\u001b[0m                                 Traceback (most recent call last)",
      "\u001b[1;32m~\\AppData\\Local\\Temp/ipykernel_4468/664699942.py\u001b[0m in \u001b[0;36m<module>\u001b[1;34m\u001b[0m\n\u001b[1;32m----> 1\u001b[1;33m rearrange_cols_df = dropcols_df[['Geography',\n\u001b[0m\u001b[0;32m      2\u001b[0m  \u001b[1;34m'Timeframe'\u001b[0m\u001b[1;33m,\u001b[0m\u001b[1;33m\u001b[0m\u001b[1;33m\u001b[0m\u001b[0m\n\u001b[0;32m      3\u001b[0m  \u001b[1;34m'Current Year Week Ending'\u001b[0m\u001b[1;33m,\u001b[0m\u001b[1;33m\u001b[0m\u001b[1;33m\u001b[0m\u001b[0m\n\u001b[0;32m      4\u001b[0m  \u001b[1;34m'Type'\u001b[0m\u001b[1;33m,\u001b[0m\u001b[1;33m\u001b[0m\u001b[1;33m\u001b[0m\u001b[0m\n\u001b[0;32m      5\u001b[0m  \u001b[1;34m'ASP Current Year'\u001b[0m\u001b[1;33m,\u001b[0m\u001b[1;33m\u001b[0m\u001b[1;33m\u001b[0m\u001b[0m\n",
      "\u001b[1;31mNameError\u001b[0m: name 'dropcols_df' is not defined"
     ]
    }
   ],
   "source": [
    "rearrange_cols_df = dropcols_df[['Geography',\n",
    " 'Timeframe',\n",
    " 'Current Year Week Ending',\n",
    " 'Type',\n",
    " 'ASP Current Year',\n",
    " '4046 Units',\n",
    " '4225 Units',\n",
    " '4770 Units',\n",
    " 'Bulk GTIN',\n",
    " 'TotalBagged Units',\n",
    " 'Total Bulk and Bags Units']]\n",
    "\n",
    "rearrange_cols_df.head()"
   ]
  },
  {
   "cell_type": "code",
   "execution_count": 14,
   "id": "f02404ff",
   "metadata": {},
   "outputs": [
    {
     "data": {
      "text/plain": [
       "Geography                     object\n",
       "Timeframe                     object\n",
       "Current Year Week Ending      object\n",
       "Type                          object\n",
       "ASP Current Year             float64\n",
       "4046 Units                   float64\n",
       "4225 Units                   float64\n",
       "4770 Units                   float64\n",
       "Bulk GTIN                    float64\n",
       "TotalBagged Units            float64\n",
       "Total Bulk and Bags Units    float64\n",
       "dtype: object"
      ]
     },
     "execution_count": 14,
     "metadata": {},
     "output_type": "execute_result"
    }
   ],
   "source": [
    "rearrange_cols_df.dtypes"
   ]
  },
  {
   "cell_type": "code",
   "execution_count": 15,
   "id": "42b46e96",
   "metadata": {},
   "outputs": [
    {
     "data": {
      "text/plain": [
       "Geography                            object\n",
       "Timeframe                            object\n",
       "Current Year Week Ending     datetime64[ns]\n",
       "Type                                 object\n",
       "ASP Current Year                    float64\n",
       "4046 Units                          float64\n",
       "4225 Units                          float64\n",
       "4770 Units                          float64\n",
       "Bulk GTIN                           float64\n",
       "TotalBagged Units                   float64\n",
       "Total Bulk and Bags Units           float64\n",
       "dtype: object"
      ]
     },
     "execution_count": 15,
     "metadata": {},
     "output_type": "execute_result"
    }
   ],
   "source": [
    "rearrange_cols_df['Current Year Week Ending'] = pd.to_datetime(rearrange_cols_df['Current Year Week Ending'])\n",
    "\n",
    "rearrange_cols_df.dtypes"
   ]
  },
  {
   "cell_type": "markdown",
   "id": "791c94bc",
   "metadata": {},
   "source": [
    "# rearrange_cols_df.astype({'Current Year Week Ending' : datetime})"
   ]
  },
  {
   "cell_type": "code",
   "execution_count": 19,
   "id": "d959fdba",
   "metadata": {},
   "outputs": [
    {
     "ename": "AttributeError",
     "evalue": "Can only use .dt accessor with datetimelike values",
     "output_type": "error",
     "traceback": [
      "\u001b[1;31m---------------------------------------------------------------------------\u001b[0m",
      "\u001b[1;31mAttributeError\u001b[0m                            Traceback (most recent call last)",
      "\u001b[1;32m~\\AppData\\Local\\Temp/ipykernel_23888/899097227.py\u001b[0m in \u001b[0;36m<module>\u001b[1;34m\u001b[0m\n\u001b[1;32m----> 1\u001b[1;33m \u001b[0mrearrange_cols_df\u001b[0m\u001b[1;33m[\u001b[0m\u001b[1;34m'Current Year Week Ending'\u001b[0m\u001b[1;33m]\u001b[0m \u001b[1;33m=\u001b[0m \u001b[0mrearrange_cols_df\u001b[0m\u001b[1;33m[\u001b[0m\u001b[1;34m'Current Year Week Ending'\u001b[0m\u001b[1;33m]\u001b[0m\u001b[1;33m.\u001b[0m\u001b[0mdt\u001b[0m\u001b[1;33m.\u001b[0m\u001b[0mstrftime\u001b[0m\u001b[1;33m(\u001b[0m\u001b[1;34m\"%Y-%m-%d\"\u001b[0m\u001b[1;33m)\u001b[0m\u001b[1;33m\u001b[0m\u001b[1;33m\u001b[0m\u001b[0m\n\u001b[0m\u001b[0;32m      2\u001b[0m \u001b[1;33m\u001b[0m\u001b[0m\n\u001b[0;32m      3\u001b[0m \u001b[0mrearrange_cols_df\u001b[0m\u001b[1;33m.\u001b[0m\u001b[0mhead\u001b[0m\u001b[1;33m(\u001b[0m\u001b[1;33m)\u001b[0m\u001b[1;33m\u001b[0m\u001b[1;33m\u001b[0m\u001b[0m\n",
      "\u001b[1;32m~\\anaconda3\\lib\\site-packages\\pandas\\core\\generic.py\u001b[0m in \u001b[0;36m__getattr__\u001b[1;34m(self, name)\u001b[0m\n\u001b[0;32m   5485\u001b[0m         ):\n\u001b[0;32m   5486\u001b[0m             \u001b[1;32mreturn\u001b[0m \u001b[0mself\u001b[0m\u001b[1;33m[\u001b[0m\u001b[0mname\u001b[0m\u001b[1;33m]\u001b[0m\u001b[1;33m\u001b[0m\u001b[1;33m\u001b[0m\u001b[0m\n\u001b[1;32m-> 5487\u001b[1;33m         \u001b[1;32mreturn\u001b[0m \u001b[0mobject\u001b[0m\u001b[1;33m.\u001b[0m\u001b[0m__getattribute__\u001b[0m\u001b[1;33m(\u001b[0m\u001b[0mself\u001b[0m\u001b[1;33m,\u001b[0m \u001b[0mname\u001b[0m\u001b[1;33m)\u001b[0m\u001b[1;33m\u001b[0m\u001b[1;33m\u001b[0m\u001b[0m\n\u001b[0m\u001b[0;32m   5488\u001b[0m \u001b[1;33m\u001b[0m\u001b[0m\n\u001b[0;32m   5489\u001b[0m     \u001b[1;32mdef\u001b[0m \u001b[0m__setattr__\u001b[0m\u001b[1;33m(\u001b[0m\u001b[0mself\u001b[0m\u001b[1;33m,\u001b[0m \u001b[0mname\u001b[0m\u001b[1;33m:\u001b[0m \u001b[0mstr\u001b[0m\u001b[1;33m,\u001b[0m \u001b[0mvalue\u001b[0m\u001b[1;33m)\u001b[0m \u001b[1;33m->\u001b[0m \u001b[1;32mNone\u001b[0m\u001b[1;33m:\u001b[0m\u001b[1;33m\u001b[0m\u001b[1;33m\u001b[0m\u001b[0m\n",
      "\u001b[1;32m~\\anaconda3\\lib\\site-packages\\pandas\\core\\accessor.py\u001b[0m in \u001b[0;36m__get__\u001b[1;34m(self, obj, cls)\u001b[0m\n\u001b[0;32m    179\u001b[0m             \u001b[1;31m# we're accessing the attribute of the class, i.e., Dataset.geo\u001b[0m\u001b[1;33m\u001b[0m\u001b[1;33m\u001b[0m\u001b[0m\n\u001b[0;32m    180\u001b[0m             \u001b[1;32mreturn\u001b[0m \u001b[0mself\u001b[0m\u001b[1;33m.\u001b[0m\u001b[0m_accessor\u001b[0m\u001b[1;33m\u001b[0m\u001b[1;33m\u001b[0m\u001b[0m\n\u001b[1;32m--> 181\u001b[1;33m         \u001b[0maccessor_obj\u001b[0m \u001b[1;33m=\u001b[0m \u001b[0mself\u001b[0m\u001b[1;33m.\u001b[0m\u001b[0m_accessor\u001b[0m\u001b[1;33m(\u001b[0m\u001b[0mobj\u001b[0m\u001b[1;33m)\u001b[0m\u001b[1;33m\u001b[0m\u001b[1;33m\u001b[0m\u001b[0m\n\u001b[0m\u001b[0;32m    182\u001b[0m         \u001b[1;31m# Replace the property with the accessor object. Inspired by:\u001b[0m\u001b[1;33m\u001b[0m\u001b[1;33m\u001b[0m\u001b[0m\n\u001b[0;32m    183\u001b[0m         \u001b[1;31m# https://www.pydanny.com/cached-property.html\u001b[0m\u001b[1;33m\u001b[0m\u001b[1;33m\u001b[0m\u001b[0m\n",
      "\u001b[1;32m~\\anaconda3\\lib\\site-packages\\pandas\\core\\indexes\\accessors.py\u001b[0m in \u001b[0;36m__new__\u001b[1;34m(cls, data)\u001b[0m\n\u001b[0;32m    504\u001b[0m             \u001b[1;32mreturn\u001b[0m \u001b[0mPeriodProperties\u001b[0m\u001b[1;33m(\u001b[0m\u001b[0mdata\u001b[0m\u001b[1;33m,\u001b[0m \u001b[0morig\u001b[0m\u001b[1;33m)\u001b[0m\u001b[1;33m\u001b[0m\u001b[1;33m\u001b[0m\u001b[0m\n\u001b[0;32m    505\u001b[0m \u001b[1;33m\u001b[0m\u001b[0m\n\u001b[1;32m--> 506\u001b[1;33m         \u001b[1;32mraise\u001b[0m \u001b[0mAttributeError\u001b[0m\u001b[1;33m(\u001b[0m\u001b[1;34m\"Can only use .dt accessor with datetimelike values\"\u001b[0m\u001b[1;33m)\u001b[0m\u001b[1;33m\u001b[0m\u001b[1;33m\u001b[0m\u001b[0m\n\u001b[0m",
      "\u001b[1;31mAttributeError\u001b[0m: Can only use .dt accessor with datetimelike values"
     ]
    }
   ],
   "source": [
    "rearrange_cols_df['Current Year Week Ending'] = rearrange_cols_df['Current Year Week Ending'].dt.strftime(\"%Y-%m-%d\")\n",
    "\n",
    "rearrange_cols_df.head()"
   ]
  },
  {
   "cell_type": "code",
   "execution_count": 21,
   "id": "b8546bbc",
   "metadata": {
    "scrolled": true
   },
   "outputs": [
    {
     "data": {
      "text/html": [
       "<div>\n",
       "<style scoped>\n",
       "    .dataframe tbody tr th:only-of-type {\n",
       "        vertical-align: middle;\n",
       "    }\n",
       "\n",
       "    .dataframe tbody tr th {\n",
       "        vertical-align: top;\n",
       "    }\n",
       "\n",
       "    .dataframe thead th {\n",
       "        text-align: right;\n",
       "    }\n",
       "</style>\n",
       "<table border=\"1\" class=\"dataframe\">\n",
       "  <thead>\n",
       "    <tr style=\"text-align: right;\">\n",
       "      <th></th>\n",
       "      <th>City</th>\n",
       "      <th>Timeframe</th>\n",
       "      <th>Weekly Reporting Date</th>\n",
       "      <th>Produce Type</th>\n",
       "      <th>Average Avocado Price Year</th>\n",
       "      <th>Small/Medium (4046) Units</th>\n",
       "      <th>Large (4225) Units</th>\n",
       "      <th>Extra Large (4770) Units</th>\n",
       "      <th>Bulk GTIN</th>\n",
       "      <th>Bagged Units</th>\n",
       "      <th>Total Units</th>\n",
       "    </tr>\n",
       "  </thead>\n",
       "  <tbody>\n",
       "    <tr>\n",
       "      <th>0</th>\n",
       "      <td>Albany</td>\n",
       "      <td>Weekly</td>\n",
       "      <td>2020-01-06</td>\n",
       "      <td>Conventional</td>\n",
       "      <td>1.155100</td>\n",
       "      <td>3737.00</td>\n",
       "      <td>140642.19</td>\n",
       "      <td>184.16</td>\n",
       "      <td>6166.13</td>\n",
       "      <td>10996.65</td>\n",
       "      <td>161726.12</td>\n",
       "    </tr>\n",
       "    <tr>\n",
       "      <th>1</th>\n",
       "      <td>Albany</td>\n",
       "      <td>Weekly</td>\n",
       "      <td>2020-01-12</td>\n",
       "      <td>Conventional</td>\n",
       "      <td>1.227609</td>\n",
       "      <td>3649.24</td>\n",
       "      <td>90717.11</td>\n",
       "      <td>203.78</td>\n",
       "      <td>5808.29</td>\n",
       "      <td>16359.88</td>\n",
       "      <td>116738.30</td>\n",
       "    </tr>\n",
       "    <tr>\n",
       "      <th>2</th>\n",
       "      <td>Albany</td>\n",
       "      <td>Weekly</td>\n",
       "      <td>2020-01-19</td>\n",
       "      <td>Conventional</td>\n",
       "      <td>1.088107</td>\n",
       "      <td>5057.86</td>\n",
       "      <td>108635.20</td>\n",
       "      <td>306.59</td>\n",
       "      <td>8284.13</td>\n",
       "      <td>15879.12</td>\n",
       "      <td>138162.91</td>\n",
       "    </tr>\n",
       "    <tr>\n",
       "      <th>3</th>\n",
       "      <td>Albany</td>\n",
       "      <td>Weekly</td>\n",
       "      <td>2020-01-26</td>\n",
       "      <td>Conventional</td>\n",
       "      <td>1.160866</td>\n",
       "      <td>4124.56</td>\n",
       "      <td>72571.73</td>\n",
       "      <td>270.72</td>\n",
       "      <td>7961.90</td>\n",
       "      <td>21273.86</td>\n",
       "      <td>106202.76</td>\n",
       "    </tr>\n",
       "    <tr>\n",
       "      <th>4</th>\n",
       "      <td>Albany</td>\n",
       "      <td>Weekly</td>\n",
       "      <td>2020-02-02</td>\n",
       "      <td>Conventional</td>\n",
       "      <td>1.251057</td>\n",
       "      <td>4933.07</td>\n",
       "      <td>156256.79</td>\n",
       "      <td>215.29</td>\n",
       "      <td>7492.04</td>\n",
       "      <td>17313.74</td>\n",
       "      <td>186210.93</td>\n",
       "    </tr>\n",
       "  </tbody>\n",
       "</table>\n",
       "</div>"
      ],
      "text/plain": [
       "     City Timeframe Weekly Reporting Date  Produce Type  \\\n",
       "0  Albany    Weekly            2020-01-06  Conventional   \n",
       "1  Albany    Weekly            2020-01-12  Conventional   \n",
       "2  Albany    Weekly            2020-01-19  Conventional   \n",
       "3  Albany    Weekly            2020-01-26  Conventional   \n",
       "4  Albany    Weekly            2020-02-02  Conventional   \n",
       "\n",
       "   Average Avocado Price Year  Small/Medium (4046) Units  Large (4225) Units  \\\n",
       "0                    1.155100                    3737.00           140642.19   \n",
       "1                    1.227609                    3649.24            90717.11   \n",
       "2                    1.088107                    5057.86           108635.20   \n",
       "3                    1.160866                    4124.56            72571.73   \n",
       "4                    1.251057                    4933.07           156256.79   \n",
       "\n",
       "   Extra Large (4770) Units  Bulk GTIN  Bagged Units  Total Units  \n",
       "0                    184.16    6166.13      10996.65    161726.12  \n",
       "1                    203.78    5808.29      16359.88    116738.30  \n",
       "2                    306.59    8284.13      15879.12    138162.91  \n",
       "3                    270.72    7961.90      21273.86    106202.76  \n",
       "4                    215.29    7492.04      17313.74    186210.93  "
      ]
     },
     "execution_count": 21,
     "metadata": {},
     "output_type": "execute_result"
    }
   ],
   "source": [
    "rearrange_cols_df.columns = ['City', 'Timeframe', 'Weekly Reporting Date', 'Produce Type', 'Average Avocado Price Year', 'Small/Medium (4046) Units', 'Large (4225) Units', 'Extra Large (4770) Units', 'Bulk GTIN', 'Bagged Units', 'Total Units'] \n",
    "\n",
    "rearrange_cols_df.head()"
   ]
  },
  {
   "cell_type": "code",
   "execution_count": null,
   "id": "915bac9b",
   "metadata": {},
   "outputs": [],
   "source": [
    "# rearrange_cols_df.sort_values(by=\"Weekly Reporting Date\")\n",
    "\n",
    "# rearrange_cols_df.head()\n"
   ]
  },
  {
   "cell_type": "code",
   "execution_count": 7,
   "id": "760630de",
   "metadata": {},
   "outputs": [],
   "source": [
    "# Import Dependencies\n",
    "import pandas as pd\n",
    "import os, fnmatch\n",
    "# from splinter import Browser\n",
    "# from bs4 import BeautifulSoup as bs\n",
    "import datetime as dt\n",
    "# from webdriver_manager.chrome import ChromeDriverManager\n",
    "\n",
    "def file_search():\n",
    "    # Searching for csv filenames\n",
    "\n",
    "    for root, dirs, files in os.walk(\"resources\", topdown=False):\n",
    "        resourcesVFiles = []\n",
    "        resourcesRFiles = []\n",
    "        resourcesTotFiles = []\n",
    "        for name in files:\n",
    "            if os.path.join(name).startswith(\"Volume\"):\n",
    "                resourcesVFiles.append(os.path.join(root, name))\n",
    "            elif os.path.join(name).rfind(\"total\"):\n",
    "                resourcesTotFiles.append(os.path.join(root, name))\n",
    "            else:\n",
    "                resourcesRFiles.append(os.path.join(root, name))\n",
    "    \n",
    "    # Load all relevant filenames and path to a dictionary\n",
    "    resourcesFile = {\n",
    "        \"volume_data\": resourcesVFiles,\n",
    "        \"region_data\": resourcesRFiles,\n",
    "        \"sales_tot_data\": resourcesTotFiles\n",
    "    }\n",
    "    return  resourcesFile\n",
    "\n",
    "\n",
    "def volume_file():\n",
    "\n",
    "    resourcesVFiles = file_search()['volume_data']\n",
    "\n",
    "    # List to store df names\n",
    "    volumedf_list = []\n",
    "\n",
    "    # Load Volume into dfs\n",
    "    for i in range(len(resourcesVFiles)):\n",
    "        file = resourcesVFiles[i]\n",
    "        i = i + 1\n",
    "        variable_name = f\"vol_{i}\"\n",
    "        globals()[variable_name] =  pd.read_csv(file)\n",
    "        volumedf_list.append(variable_name)\n",
    "\n",
    "    # Union Join dfs\n",
    "    volumedf_list = [vol_1, vol_2, vol_3]\n",
    "    volume = pd.concat(volumedf_list, axis=0, ignore_index=True)\n",
    "\n",
    "    # Replace N/A with zeros\n",
    "    volume.fillna(0)\n",
    "\n",
    "    for col in volume.columns:\n",
    "        if not (col == 'Week' or col == 'Status' or col == 'Year'):\n",
    "            try:\n",
    "                volume[col] = volume[col].str.replace(\",\", \"\").astype(float)\n",
    "            except AttributeError:\n",
    "                print(f'skipped {col}')\n",
    "\n",
    "    volume_transformed = volume.fillna(0)\n",
    "\n",
    "    volume_transformed['WEDate'] = pd.to_datetime(volume_transformed.Week)\n",
    "\n",
    "    actual_vol_temp = volume_transformed.loc[(volume_transformed[\"Status\"] == \"Actual\"), :]\n",
    "    actual_vol = actual_vol_temp.to_dict(\"records\")\n",
    " \n",
    "    # actual_vol\n",
    "\n",
    "    return actual_vol\n",
    "\n",
    "def total_file():\n",
    "\n",
    "    # Extract filenames and Path or csv files relating to volume unit\n",
    "\n",
    "    resourcesTotFiles = file_search()['sales_tot_data']\n",
    "\n",
    "    # numfile = len(resourcesTotFiles)\n",
    "    totaldf_list = []\n",
    "    \n",
    "    # Load Volume into dfs\n",
    "    for i in range(len(resourcesTotFiles)):\n",
    "        file = resourcesTotFiles[i]\n",
    "        i = i + 1\n",
    "        variable_name = f\"tot_{i}\"\n",
    "        globals()[variable_name] =  pd.read_csv(file)\n",
    "        totaldf_list.append(variable_name)\n",
    "\n",
    "    # Union Join dfs\n",
    "    totaldf_list = [tot_1, tot_2, tot_3]\n",
    "    total_temp = pd.concat(totaldf_list, axis=0, ignore_index=True)\n",
    "\n",
    "    # Replace N/A with zeros\n",
    "    total_temp.fillna(0)\n",
    "    \n",
    "    rearrange_cols_df = total_temp[['Geography',\n",
    "        'Timeframe',\n",
    "        'Current Year Week Ending',\n",
    "        'Type',\n",
    "        'ASP Current Year',\n",
    "        '4046 Units',\n",
    "        '4225 Units',\n",
    "        '4770 Units',\n",
    "        'Bulk GTIN',\n",
    "        'TotalBagged Units',\n",
    "        'Total Bulk and Bags Units']]\n",
    "\n",
    "    # Change dates columns to date \n",
    "    rearrange_cols_df['Current Year Week Ending'] = pd.to_datetime(rearrange_cols_df['Current Year Week Ending'])\n",
    "    rearrange_cols_df['Year']=rearrange_cols_df['Current Year Week Ending'].dt.year\n",
    "    \n",
    "    # Rename columns\n",
    "    rearrange_cols_df.columns = ['City', 'Timeframe', 'Weekly Reporting Date', 'Produce Type', 'Average Avocado Price Year', 'Small/Medium (4046) Units', 'Large (4225) Units', 'Extra Large (4770) Units', 'Bulk GTIN', 'Bagged Units', 'Total Units', 'Year'] \n",
    "\n",
    "    rearrange_cols_df[['s_city', 's_city_2']] = rearrange_cols_df.City.str.split(pat=chr(47), expand=True)\n",
    "\n",
    "    # Adding 'State' & 'Region' to data\n",
    "    hassboard_state = pd.read_csv(\"resources/hassboard_state.csv\")\n",
    "    new_df = rearrange_cols_df.merge(hassboard_state, left_on=\"City\", right_on=\"h_city\", how=\"left\").drop(['s_city_2', 'h_city'], axis=1)\n",
    "\n",
    "    # Adding Longitude & Latitude info\n",
    "\n",
    "    cities_coord = pd.read_csv(\"resources/US_cities_coord.csv\")\n",
    "    data_complete_df = new_df.merge(cities_coord, left_on=[\"s_city\", \"h_state\"], right_on=[\"City\", \"State\"], how=\"left\")\n",
    "    # data_complete_df.drop(['s_city','h_state', 'City_y'], axis=1).rename(columns={'City_x': 'City'})\n",
    "\n",
    "    total_sold = data_complete_df.to_dict('records')\n",
    "\n"
   ]
  },
  {
   "cell_type": "code",
   "execution_count": 10,
   "id": "557f6251",
   "metadata": {},
   "outputs": [
    {
     "ename": "AttributeError",
     "evalue": "'function' object has no attribute 'data_complete_df'",
     "output_type": "error",
     "traceback": [
      "\u001b[1;31m---------------------------------------------------------------------------\u001b[0m",
      "\u001b[1;31mAttributeError\u001b[0m                            Traceback (most recent call last)",
      "\u001b[1;32m~\\AppData\\Local\\Temp/ipykernel_9348/1138277263.py\u001b[0m in \u001b[0;36m<module>\u001b[1;34m\u001b[0m\n\u001b[1;32m----> 1\u001b[1;33m \u001b[0mtotal_file\u001b[0m\u001b[1;33m.\u001b[0m\u001b[0mdata_complete_df\u001b[0m\u001b[1;33m\u001b[0m\u001b[1;33m\u001b[0m\u001b[0m\n\u001b[0m",
      "\u001b[1;31mAttributeError\u001b[0m: 'function' object has no attribute 'data_complete_df'"
     ]
    }
   ],
   "source": [
    "total_file.data_complete_df"
   ]
  },
  {
   "cell_type": "code",
   "execution_count": null,
   "id": "6440d7ff",
   "metadata": {},
   "outputs": [],
   "source": []
  }
 ],
 "metadata": {
  "kernelspec": {
   "display_name": "Python 3 (ipykernel)",
   "language": "python",
   "name": "python3"
  },
  "language_info": {
   "codemirror_mode": {
    "name": "ipython",
    "version": 3
   },
   "file_extension": ".py",
   "mimetype": "text/x-python",
   "name": "python",
   "nbconvert_exporter": "python",
   "pygments_lexer": "ipython3",
   "version": "3.9.7"
  }
 },
 "nbformat": 4,
 "nbformat_minor": 5
}
